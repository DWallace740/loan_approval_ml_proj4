{
  "cells": [
    {
      "cell_type": "code",
      "execution_count": 8,
      "metadata": {
        "id": "cpGfP9yvX1JT"
      },
      "outputs": [],
      "source": [
        "# Import necessary libraries\n",
        "import sqlite3 # Import SQLite for SQL database storage\n",
        "import pandas as pd\n",
        "import seaborn as sb\n",
        "import matplotlib.pyplot as plt\n",
        "import sklearn as skl\n",
        "import tensorflow as tf\n",
        "from sklearn.linear_model import LogisticRegression\n",
        "from sklearn.model_selection import train_test_split\n",
        "from sklearn.preprocessing import StandardScaler\n",
        "from sklearn.ensemble import RandomForestClassifier\n",
        "from sklearn.metrics import confusion_matrix, accuracy_score, classification_report\n",
        "\n",
        "# Enable inline plots\n",
        "%matplotlib inline"
      ]
    },
    {
      "cell_type": "code",
      "execution_count": null,
      "metadata": {},
      "outputs": [],
      "source": [
        "# Load CSV File & Store in SQLite Database\n",
        "csv_file_path = \"loan_dataset.csv\"\n",
        "original_loan_df = pd.read_csv(r\"loan_dataset.csv\")"
      ]
    },
    {
      "cell_type": "code",
      "execution_count": 10,
      "metadata": {},
      "outputs": [
        {
          "data": {
            "text/plain": [
              "52000"
            ]
          },
          "execution_count": 10,
          "metadata": {},
          "output_type": "execute_result"
        }
      ],
      "source": [
        "# Create SQLite connection and store the dataset\n",
        "conn = sqlite3.connect(\"loan_dataset.db\")\n",
        "original_loan_df.to_sql(\"loan_data\", conn, if_exists=\"replace\", index=False)"
      ]
    },
    {
      "cell_type": "code",
      "execution_count": 11,
      "metadata": {},
      "outputs": [],
      "source": [
        "# Retrieve data from SQLite database\n",
        "query = \"SELECT * FROM loan_data\"\n",
        "df = pd.read_sql(query, conn)"
      ]
    },
    {
      "cell_type": "code",
      "execution_count": 12,
      "metadata": {},
      "outputs": [
        {
          "name": "stdout",
          "output_type": "stream",
          "text": [
            "       Applicant_ID           Age    Dependents  Annual_Income  \\\n",
            "count  52000.000000  52000.000000  52000.000000   52000.000000   \n",
            "mean   26000.500000     38.898385      1.498000   83588.474404   \n",
            "std    15011.251336     10.553928      1.118077   35720.851522   \n",
            "min        1.000000     18.000000      0.000000   20009.000000   \n",
            "25%    13000.750000     31.000000      0.000000   55564.000000   \n",
            "50%    26000.500000     38.000000      1.000000   78839.000000   \n",
            "75%    39000.250000     45.000000      2.000000  114226.000000   \n",
            "max    52000.000000     69.000000      3.000000  149998.000000   \n",
            "\n",
            "       Monthly_Expenses  Credit_Score  Existing_Loans  \\\n",
            "count      52000.000000  52000.000000    52000.000000   \n",
            "mean        2748.064885    678.089019        0.997865   \n",
            "std         1295.678763    159.990367        0.815586   \n",
            "min          500.000000    300.000000        0.000000   \n",
            "25%         1636.000000    553.000000        0.000000   \n",
            "50%         2739.000000    742.000000        1.000000   \n",
            "75%         3866.000000    796.000000        2.000000   \n",
            "max         4999.000000    849.000000        2.000000   \n",
            "\n",
            "       Total_Existing_Loan_Amount  Outstanding_Debt  Loan_History  \\\n",
            "count                52000.000000      52000.000000  52000.000000   \n",
            "mean                 24939.087962      14984.864923      0.198596   \n",
            "std                  14407.886552       8663.404305      0.398947   \n",
            "min                      0.000000          0.000000      0.000000   \n",
            "25%                  12498.000000       7511.750000      0.000000   \n",
            "50%                  24964.000000      14984.500000      0.000000   \n",
            "75%                  37399.500000      22432.250000      0.000000   \n",
            "max                  49999.000000      29998.000000      1.000000   \n",
            "\n",
            "       Loan_Amount_Requested     Loan_Term  Interest_Rate  \\\n",
            "count           52000.000000  52000.000000   52000.000000   \n",
            "mean            21102.765481    125.827019       9.253494   \n",
            "std              8224.940906     65.509959       3.318356   \n",
            "min              5000.000000     12.000000       3.500000   \n",
            "25%             16941.750000     69.000000       6.400000   \n",
            "50%             21039.000000    126.000000       9.240000   \n",
            "75%             25809.000000    182.000000      12.140000   \n",
            "max             44848.000000    239.000000      15.000000   \n",
            "\n",
            "       Bank_Account_History  Transaction_Frequency  Default_Risk  \\\n",
            "count          52000.000000           52000.000000  52000.000000   \n",
            "mean               4.503923              17.031808      0.500204   \n",
            "std                2.872721               7.212011      0.289939   \n",
            "min                0.000000               5.000000      0.000000   \n",
            "25%                2.000000              11.000000      0.250000   \n",
            "50%                5.000000              17.000000      0.500000   \n",
            "75%                7.000000              23.000000      0.750000   \n",
            "max                9.000000              29.000000      1.000000   \n",
            "\n",
            "       Loan_Approval_Status  \n",
            "count          52000.000000  \n",
            "mean               0.641654  \n",
            "std                0.479519  \n",
            "min                0.000000  \n",
            "25%                0.000000  \n",
            "50%                1.000000  \n",
            "75%                1.000000  \n",
            "max                1.000000  \n",
            "   Applicant_ID  Gender  Age Marital_Status  Dependents     Education  \\\n",
            "0             1  Female   25        Married           2      Graduate   \n",
            "1             2    Male   36        Married           2   High School   \n",
            "2             3    Male   43         Single           0  Postgraduate   \n",
            "3             4  Female   28        Married           0   High School   \n",
            "4             5  Female   32         Single           0      Graduate   \n",
            "5             6    Male   49         Single           2  Postgraduate   \n",
            "6             7  Female   41        Married           0   High School   \n",
            "7             8  Female   52         Single           2  Postgraduate   \n",
            "8             9    Male   27         Single           1      Graduate   \n",
            "9            10    Male   61         Single           3  Postgraduate   \n",
            "\n",
            "  Employment_Status Occupation_Type Residential_Status City/Town  ...  \\\n",
            "0          Employed        Business                Own     Urban  ...   \n",
            "1          Employed        Business                Own  Suburban  ...   \n",
            "2     Self-Employed      Freelancer                Own     Urban  ...   \n",
            "3     Self-Employed      Freelancer               Rent  Suburban  ...   \n",
            "4          Employed        Salaried               Rent  Suburban  ...   \n",
            "5          Employed      Freelancer                Own     Urban  ...   \n",
            "6          Employed        Salaried                Own     Rural  ...   \n",
            "7          Employed        Business                Own     Urban  ...   \n",
            "8     Self-Employed      Freelancer               Rent     Urban  ...   \n",
            "9          Employed      Freelancer                Own     Urban  ...   \n",
            "\n",
            "   Loan_Amount_Requested  Loan_Term  Loan_Purpose  Interest_Rate  Loan_Type  \\\n",
            "0                  24535        209          Home           4.27    Secured   \n",
            "1                   8288         33          Home          14.78  Unsecured   \n",
            "2                  10308        159       Vehicle          12.33    Secured   \n",
            "3                  33937         39      Personal           8.77    Secured   \n",
            "4                  23360         34          Home           9.04  Unsecured   \n",
            "5                  30056        111     Education           4.98  Unsecured   \n",
            "6                  34707        192      Personal           7.35  Unsecured   \n",
            "7                  10583         81       Vehicle          13.49  Unsecured   \n",
            "8                  20239        101          Home          13.53    Secured   \n",
            "9                  15084        164      Personal          14.07    Secured   \n",
            "\n",
            "   Co-Applicant  Bank_Account_History  Transaction_Frequency  Default_Risk  \\\n",
            "0           Yes                     8                     20          0.81   \n",
            "1           Yes                     9                      9          0.17   \n",
            "2           Yes                     7                     27          0.25   \n",
            "3            No                     9                     16          0.27   \n",
            "4            No                     1                     17          0.32   \n",
            "5           Yes                     4                     14          0.99   \n",
            "6           Yes                     2                     13          0.56   \n",
            "7            No                     4                     21          0.45   \n",
            "8           Yes                     4                     18          0.54   \n",
            "9            No                     4                     19          0.22   \n",
            "\n",
            "  Loan_Approval_Status  \n",
            "0                    1  \n",
            "1                    0  \n",
            "2                    0  \n",
            "3                    1  \n",
            "4                    1  \n",
            "5                    1  \n",
            "6                    1  \n",
            "7                    0  \n",
            "8                    0  \n",
            "9                    1  \n",
            "\n",
            "[10 rows x 27 columns]\n"
          ]
        }
      ],
      "source": [
        "# Display basic statistics and first few rows\n",
        "print(df.describe())\n",
        "print(df.head(10))"
      ]
    },
    {
      "cell_type": "markdown",
      "metadata": {},
      "source": [
        "# Data Preprocessing: Handling Categorical Variables"
      ]
    },
    {
      "cell_type": "code",
      "execution_count": 13,
      "metadata": {},
      "outputs": [
        {
          "data": {
            "text/plain": [
              "Applicant_ID                  52000\n",
              "Gender                            2\n",
              "Age                              52\n",
              "Marital_Status                    3\n",
              "Dependents                        4\n",
              "Education                         3\n",
              "Employment_Status                 3\n",
              "Occupation_Type                   4\n",
              "Residential_Status                3\n",
              "City/Town                         3\n",
              "Annual_Income                 42408\n",
              "Monthly_Expenses               4500\n",
              "Credit_Score                    450\n",
              "Existing_Loans                    3\n",
              "Total_Existing_Loan_Amount    32440\n",
              "Outstanding_Debt              24717\n",
              "Loan_History                      2\n",
              "Loan_Amount_Requested         22433\n",
              "Loan_Term                       228\n",
              "Loan_Purpose                      4\n",
              "Interest_Rate                  1151\n",
              "Loan_Type                         2\n",
              "Co-Applicant                      2\n",
              "Bank_Account_History             10\n",
              "Transaction_Frequency            25\n",
              "Default_Risk                    101\n",
              "Loan_Approval_Status              2\n",
              "dtype: int64"
            ]
          },
          "execution_count": 13,
          "metadata": {},
          "output_type": "execute_result"
        }
      ],
      "source": [
        "unique_values = original_loan_df.dtypes.index.tolist()\n",
        "original_loan_df[unique_values].nunique()"
      ]
    },
    {
      "cell_type": "code",
      "execution_count": 14,
      "metadata": {},
      "outputs": [
        {
          "name": "stdout",
          "output_type": "stream",
          "text": [
            "['Gender', 'Marital_Status', 'Dependents', 'Education', 'Employment_Status', 'Occupation_Type', 'Residential_Status', 'City/Town', 'Existing_Loans', 'Loan_History', 'Loan_Purpose', 'Loan_Type', 'Co-Applicant']\n"
          ]
        }
      ],
      "source": [
        "# Drop 'Applicant_ID' column as it's not relevant to model training\n",
        "index_loan_df = original_loan_df.drop(columns = [\"Applicant_ID\"])\n",
        "\n",
        "# Convert categorical data to numeric with `pd.get_dummies`\n",
        "original_loan_df_columns = index_loan_df.columns.to_list()\n",
        "original_loan_df_columns.remove('Loan_Approval_Status')\n",
        "original_loan_df_columns.remove('Age')\n",
        "original_loan_df_columns.remove('Annual_Income')\n",
        "original_loan_df_columns.remove('Monthly_Expenses')\n",
        "original_loan_df_columns.remove('Credit_Score')\n",
        "original_loan_df_columns.remove('Total_Existing_Loan_Amount')\n",
        "original_loan_df_columns.remove('Outstanding_Debt')\n",
        "original_loan_df_columns.remove('Loan_Amount_Requested')\n",
        "original_loan_df_columns.remove('Loan_Term')\n",
        "original_loan_df_columns.remove('Interest_Rate')\n",
        "original_loan_df_columns.remove('Bank_Account_History')\n",
        "original_loan_df_columns.remove('Transaction_Frequency')\n",
        "original_loan_df_columns.remove('Default_Risk')\n",
        "\n",
        "print(original_loan_df_columns)"
      ]
    },
    {
      "cell_type": "code",
      "execution_count": 15,
      "metadata": {},
      "outputs": [
        {
          "name": "stdout",
          "output_type": "stream",
          "text": [
            "Age                                int32\n",
            "Annual_Income                      int32\n",
            "Monthly_Expenses                   int32\n",
            "Credit_Score                       int32\n",
            "Total_Existing_Loan_Amount         int32\n",
            "Outstanding_Debt                   int32\n",
            "Loan_Amount_Requested              int32\n",
            "Loan_Term                          int32\n",
            "Interest_Rate                      int32\n",
            "Bank_Account_History               int32\n",
            "Transaction_Frequency              int32\n",
            "Default_Risk                       int32\n",
            "Loan_Approval_Status               int32\n",
            "Gender_Female                      int32\n",
            "Gender_Male                        int32\n",
            "Marital_Status_Divorced            int32\n",
            "Marital_Status_Married             int32\n",
            "Marital_Status_Single              int32\n",
            "Dependents_0                       int32\n",
            "Dependents_1                       int32\n",
            "Dependents_2                       int32\n",
            "Dependents_3                       int32\n",
            "Education_Graduate                 int32\n",
            "Education_High School              int32\n",
            "Education_Postgraduate             int32\n",
            "Employment_Status_Employed         int32\n",
            "Employment_Status_Self-Employed    int32\n",
            "Employment_Status_Unemployed       int32\n",
            "Occupation_Type_Business           int32\n",
            "Occupation_Type_Freelancer         int32\n",
            "Occupation_Type_Professional       int32\n",
            "Occupation_Type_Salaried           int32\n",
            "Residential_Status_Other           int32\n",
            "Residential_Status_Own             int32\n",
            "Residential_Status_Rent            int32\n",
            "City/Town_Rural                    int32\n",
            "City/Town_Suburban                 int32\n",
            "City/Town_Urban                    int32\n",
            "Existing_Loans_0                   int32\n",
            "Existing_Loans_1                   int32\n",
            "Existing_Loans_2                   int32\n",
            "Loan_History_0                     int32\n",
            "Loan_History_1                     int32\n",
            "Loan_Purpose_Education             int32\n",
            "Loan_Purpose_Home                  int32\n",
            "Loan_Purpose_Personal              int32\n",
            "Loan_Purpose_Vehicle               int32\n",
            "Loan_Type_Secured                  int32\n",
            "Loan_Type_Unsecured                int32\n",
            "Co-Applicant_No                    int32\n",
            "Co-Applicant_Yes                   int32\n",
            "dtype: object\n"
          ]
        },
        {
          "data": {
            "text/html": [
              "<div>\n",
              "<style scoped>\n",
              "    .dataframe tbody tr th:only-of-type {\n",
              "        vertical-align: middle;\n",
              "    }\n",
              "\n",
              "    .dataframe tbody tr th {\n",
              "        vertical-align: top;\n",
              "    }\n",
              "\n",
              "    .dataframe thead th {\n",
              "        text-align: right;\n",
              "    }\n",
              "</style>\n",
              "<table border=\"1\" class=\"dataframe\">\n",
              "  <thead>\n",
              "    <tr style=\"text-align: right;\">\n",
              "      <th></th>\n",
              "      <th>Age</th>\n",
              "      <th>Annual_Income</th>\n",
              "      <th>Monthly_Expenses</th>\n",
              "      <th>Credit_Score</th>\n",
              "      <th>Total_Existing_Loan_Amount</th>\n",
              "      <th>Outstanding_Debt</th>\n",
              "      <th>Loan_Amount_Requested</th>\n",
              "      <th>Loan_Term</th>\n",
              "      <th>Interest_Rate</th>\n",
              "      <th>Bank_Account_History</th>\n",
              "      <th>...</th>\n",
              "      <th>Loan_History_0</th>\n",
              "      <th>Loan_History_1</th>\n",
              "      <th>Loan_Purpose_Education</th>\n",
              "      <th>Loan_Purpose_Home</th>\n",
              "      <th>Loan_Purpose_Personal</th>\n",
              "      <th>Loan_Purpose_Vehicle</th>\n",
              "      <th>Loan_Type_Secured</th>\n",
              "      <th>Loan_Type_Unsecured</th>\n",
              "      <th>Co-Applicant_No</th>\n",
              "      <th>Co-Applicant_Yes</th>\n",
              "    </tr>\n",
              "  </thead>\n",
              "  <tbody>\n",
              "    <tr>\n",
              "      <th>0</th>\n",
              "      <td>25</td>\n",
              "      <td>139901</td>\n",
              "      <td>2533</td>\n",
              "      <td>743</td>\n",
              "      <td>10942</td>\n",
              "      <td>19822</td>\n",
              "      <td>24535</td>\n",
              "      <td>209</td>\n",
              "      <td>4</td>\n",
              "      <td>8</td>\n",
              "      <td>...</td>\n",
              "      <td>1</td>\n",
              "      <td>0</td>\n",
              "      <td>0</td>\n",
              "      <td>1</td>\n",
              "      <td>0</td>\n",
              "      <td>0</td>\n",
              "      <td>1</td>\n",
              "      <td>0</td>\n",
              "      <td>0</td>\n",
              "      <td>1</td>\n",
              "    </tr>\n",
              "    <tr>\n",
              "      <th>1</th>\n",
              "      <td>36</td>\n",
              "      <td>21162</td>\n",
              "      <td>4041</td>\n",
              "      <td>468</td>\n",
              "      <td>48731</td>\n",
              "      <td>18321</td>\n",
              "      <td>8288</td>\n",
              "      <td>33</td>\n",
              "      <td>14</td>\n",
              "      <td>9</td>\n",
              "      <td>...</td>\n",
              "      <td>1</td>\n",
              "      <td>0</td>\n",
              "      <td>0</td>\n",
              "      <td>1</td>\n",
              "      <td>0</td>\n",
              "      <td>0</td>\n",
              "      <td>0</td>\n",
              "      <td>1</td>\n",
              "      <td>0</td>\n",
              "      <td>1</td>\n",
              "    </tr>\n",
              "    <tr>\n",
              "      <th>2</th>\n",
              "      <td>43</td>\n",
              "      <td>27815</td>\n",
              "      <td>3453</td>\n",
              "      <td>389</td>\n",
              "      <td>6925</td>\n",
              "      <td>13851</td>\n",
              "      <td>10308</td>\n",
              "      <td>159</td>\n",
              "      <td>12</td>\n",
              "      <td>7</td>\n",
              "      <td>...</td>\n",
              "      <td>1</td>\n",
              "      <td>0</td>\n",
              "      <td>0</td>\n",
              "      <td>0</td>\n",
              "      <td>0</td>\n",
              "      <td>1</td>\n",
              "      <td>1</td>\n",
              "      <td>0</td>\n",
              "      <td>0</td>\n",
              "      <td>1</td>\n",
              "    </tr>\n",
              "    <tr>\n",
              "      <th>3</th>\n",
              "      <td>28</td>\n",
              "      <td>137853</td>\n",
              "      <td>2732</td>\n",
              "      <td>778</td>\n",
              "      <td>42016</td>\n",
              "      <td>28608</td>\n",
              "      <td>33937</td>\n",
              "      <td>39</td>\n",
              "      <td>8</td>\n",
              "      <td>9</td>\n",
              "      <td>...</td>\n",
              "      <td>0</td>\n",
              "      <td>1</td>\n",
              "      <td>0</td>\n",
              "      <td>0</td>\n",
              "      <td>1</td>\n",
              "      <td>0</td>\n",
              "      <td>1</td>\n",
              "      <td>0</td>\n",
              "      <td>1</td>\n",
              "      <td>0</td>\n",
              "    </tr>\n",
              "    <tr>\n",
              "      <th>4</th>\n",
              "      <td>32</td>\n",
              "      <td>81753</td>\n",
              "      <td>1648</td>\n",
              "      <td>752</td>\n",
              "      <td>31747</td>\n",
              "      <td>8780</td>\n",
              "      <td>23360</td>\n",
              "      <td>34</td>\n",
              "      <td>9</td>\n",
              "      <td>1</td>\n",
              "      <td>...</td>\n",
              "      <td>0</td>\n",
              "      <td>1</td>\n",
              "      <td>0</td>\n",
              "      <td>1</td>\n",
              "      <td>0</td>\n",
              "      <td>0</td>\n",
              "      <td>0</td>\n",
              "      <td>1</td>\n",
              "      <td>1</td>\n",
              "      <td>0</td>\n",
              "    </tr>\n",
              "  </tbody>\n",
              "</table>\n",
              "<p>5 rows × 51 columns</p>\n",
              "</div>"
            ],
            "text/plain": [
              "   Age  Annual_Income  Monthly_Expenses  Credit_Score  \\\n",
              "0   25         139901              2533           743   \n",
              "1   36          21162              4041           468   \n",
              "2   43          27815              3453           389   \n",
              "3   28         137853              2732           778   \n",
              "4   32          81753              1648           752   \n",
              "\n",
              "   Total_Existing_Loan_Amount  Outstanding_Debt  Loan_Amount_Requested  \\\n",
              "0                       10942             19822                  24535   \n",
              "1                       48731             18321                   8288   \n",
              "2                        6925             13851                  10308   \n",
              "3                       42016             28608                  33937   \n",
              "4                       31747              8780                  23360   \n",
              "\n",
              "   Loan_Term  Interest_Rate  Bank_Account_History  ...  Loan_History_0  \\\n",
              "0        209              4                     8  ...               1   \n",
              "1         33             14                     9  ...               1   \n",
              "2        159             12                     7  ...               1   \n",
              "3         39              8                     9  ...               0   \n",
              "4         34              9                     1  ...               0   \n",
              "\n",
              "   Loan_History_1  Loan_Purpose_Education  Loan_Purpose_Home  \\\n",
              "0               0                       0                  1   \n",
              "1               0                       0                  1   \n",
              "2               0                       0                  0   \n",
              "3               1                       0                  0   \n",
              "4               1                       0                  1   \n",
              "\n",
              "   Loan_Purpose_Personal  Loan_Purpose_Vehicle  Loan_Type_Secured  \\\n",
              "0                      0                     0                  1   \n",
              "1                      0                     0                  0   \n",
              "2                      0                     1                  1   \n",
              "3                      1                     0                  1   \n",
              "4                      0                     0                  0   \n",
              "\n",
              "   Loan_Type_Unsecured  Co-Applicant_No  Co-Applicant_Yes  \n",
              "0                    0                0                 1  \n",
              "1                    1                0                 1  \n",
              "2                    0                0                 1  \n",
              "3                    0                1                 0  \n",
              "4                    1                1                 0  \n",
              "\n",
              "[5 rows x 51 columns]"
            ]
          },
          "execution_count": 15,
          "metadata": {},
          "output_type": "execute_result"
        }
      ],
      "source": [
        "# Convert categorical data to numeric with `pd.get_dummies`\n",
        "df_encoded = pd.get_dummies(index_loan_df, columns=original_loan_df_columns)\n",
        "\n",
        "# Convert True/False to 1/0 (if applicable)\n",
        "df_encoded = df_encoded.astype(int)\n",
        "\n",
        "# Ensure all categorical features are encoded properly\n",
        "print(df_encoded.dtypes)  # Check data types after encoding\n",
        "\n",
        "# Display the first few rows of the encoded dataframe\n",
        "df_encoded.head()\n"
      ]
    },
    {
      "cell_type": "code",
      "execution_count": 16,
      "metadata": {},
      "outputs": [],
      "source": [
        "# Split our preprocessed data into our features and target arrays\n",
        "X = df_encoded.copy()\n",
        "X.drop(\"Loan_Approval_Status\", axis=1, inplace=True)\n",
        "y = df_encoded[\"Loan_Approval_Status\"].ravel()"
      ]
    },
    {
      "cell_type": "code",
      "execution_count": 17,
      "metadata": {},
      "outputs": [],
      "source": [
        "# Split our preprocessed data into our features and target arrays\n",
        "# y = df_encoded.Loan_Approval_Status.values\n",
        "# X = df_encoded.drop(columns=\"Loan_Approval_Status\").values\n",
        "\n",
        "# Split the preprocessed data into a training and testing dataset\n",
        "X_train, X_test, y_train, y_test = train_test_split(X, y, random_state=1, stratify=y)"
      ]
    },
    {
      "cell_type": "markdown",
      "metadata": {},
      "source": [
        "# Model 1: Logistic Regression"
      ]
    },
    {
      "cell_type": "code",
      "execution_count": 18,
      "metadata": {},
      "outputs": [
        {
          "name": "stdout",
          "output_type": "stream",
          "text": [
            "Training Data Score: 0.7819230769230769\n",
            "Testing Data Score: 0.7803846153846153\n"
          ]
        },
        {
          "name": "stderr",
          "output_type": "stream",
          "text": [
            "c:\\Users\\avery\\anaconda3\\envs\\dev_ave\\lib\\site-packages\\sklearn\\linear_model\\_logistic.py:469: ConvergenceWarning: lbfgs failed to converge (status=1):\n",
            "STOP: TOTAL NO. of ITERATIONS REACHED LIMIT.\n",
            "\n",
            "Increase the number of iterations (max_iter) or scale the data as shown in:\n",
            "    https://scikit-learn.org/stable/modules/preprocessing.html\n",
            "Please also refer to the documentation for alternative solver options:\n",
            "    https://scikit-learn.org/stable/modules/linear_model.html#logistic-regression\n",
            "  n_iter_i = _check_optimize_result(\n"
          ]
        }
      ],
      "source": [
        "# Perform Logistic Regression as first test\n",
        "classifier = LogisticRegression(solver='lbfgs', random_state=1)\n",
        "\n",
        "# # Train the logistic regression model\n",
        "classifier.fit(X_train, y_train)\n",
        "\n",
        "# Evaluate logistic regression model\n",
        "print(f\"Training Data Score: {classifier.score(X_train, y_train)}\")\n",
        "print(f\"Testing Data Score: {classifier.score(X_test, y_test)}\")"
      ]
    },
    {
      "cell_type": "code",
      "execution_count": 19,
      "metadata": {},
      "outputs": [],
      "source": [
        "# Create a StandardScaler instances\n",
        "scaler = StandardScaler()\n",
        "\n",
        "# Fit the StandardScaler\n",
        "X_scaler = scaler.fit(X_train)\n",
        "\n",
        "# Scale the data\n",
        "X_train_scaled = X_scaler.transform(X_train)\n",
        "X_test_scaled = X_scaler.transform(X_test)"
      ]
    },
    {
      "cell_type": "markdown",
      "metadata": {},
      "source": [
        "# Model 2: Random Forest Classifier"
      ]
    },
    {
      "cell_type": "code",
      "execution_count": 20,
      "metadata": {},
      "outputs": [
        {
          "name": "stdout",
          "output_type": "stream",
          "text": [
            "Confusion Matrix\n"
          ]
        },
        {
          "data": {
            "text/html": [
              "<div>\n",
              "<style scoped>\n",
              "    .dataframe tbody tr th:only-of-type {\n",
              "        vertical-align: middle;\n",
              "    }\n",
              "\n",
              "    .dataframe tbody tr th {\n",
              "        vertical-align: top;\n",
              "    }\n",
              "\n",
              "    .dataframe thead th {\n",
              "        text-align: right;\n",
              "    }\n",
              "</style>\n",
              "<table border=\"1\" class=\"dataframe\">\n",
              "  <thead>\n",
              "    <tr style=\"text-align: right;\">\n",
              "      <th></th>\n",
              "      <th>Predicted 0</th>\n",
              "      <th>Predicted 1</th>\n",
              "    </tr>\n",
              "  </thead>\n",
              "  <tbody>\n",
              "    <tr>\n",
              "      <th>Actual 0</th>\n",
              "      <td>3277</td>\n",
              "      <td>1381</td>\n",
              "    </tr>\n",
              "    <tr>\n",
              "      <th>Actual 1</th>\n",
              "      <td>612</td>\n",
              "      <td>7730</td>\n",
              "    </tr>\n",
              "  </tbody>\n",
              "</table>\n",
              "</div>"
            ],
            "text/plain": [
              "          Predicted 0  Predicted 1\n",
              "Actual 0         3277         1381\n",
              "Actual 1          612         7730"
            ]
          },
          "metadata": {},
          "output_type": "display_data"
        },
        {
          "name": "stdout",
          "output_type": "stream",
          "text": [
            "Accuracy Score : 0.8466923076923077\n",
            "Classification Report\n",
            "              precision    recall  f1-score   support\n",
            "\n",
            "           0       0.84      0.70      0.77      4658\n",
            "           1       0.85      0.93      0.89      8342\n",
            "\n",
            "    accuracy                           0.85     13000\n",
            "   macro avg       0.85      0.82      0.83     13000\n",
            "weighted avg       0.85      0.85      0.84     13000\n",
            "\n"
          ]
        }
      ],
      "source": [
        "# Forest Trees as second test\n",
        "\n",
        "# Create a random forest classifier\n",
        "rf_model = RandomForestClassifier(n_estimators=100, random_state=1)\n",
        "\n",
        "# Fitting the model\n",
        "rf_model = rf_model.fit(X_train_scaled, y_train)\n",
        "\n",
        "# Making predictions using the testing data\n",
        "predictions = rf_model.predict(X_test_scaled)\n",
        "\n",
        "# Calculating the confusion matrix\n",
        "cm = confusion_matrix(y_test, predictions)\n",
        "cm_df = pd.DataFrame(\n",
        "    cm, index=[\"Actual 0\", \"Actual 1\"], columns=[\"Predicted 0\", \"Predicted 1\"]\n",
        ")\n",
        "\n",
        "# Calculating the accuracy score\n",
        "acc_score = accuracy_score(y_test, predictions)\n",
        "\n",
        "# Displaying results\n",
        "print(\"Confusion Matrix\")\n",
        "display(cm_df)\n",
        "print(f\"Accuracy Score : {acc_score}\")\n",
        "print(\"Classification Report\")\n",
        "print(classification_report(y_test, predictions))"
      ]
    },
    {
      "cell_type": "markdown",
      "metadata": {},
      "source": [
        "# Feature Importance Visualization (Random Forest)"
      ]
    },
    {
      "cell_type": "code",
      "execution_count": 21,
      "metadata": {},
      "outputs": [
        {
          "data": {
            "text/plain": [
              "[(0.22811414758093954, 'Credit_Score'),\n",
              " (0.16481749039027724, 'Loan_Amount_Requested'),\n",
              " (0.1251749628878526, 'Annual_Income'),\n",
              " (0.06947898474945455, 'Age'),\n",
              " (0.040979230801243036, 'Monthly_Expenses'),\n",
              " (0.040841695265806104, 'Total_Existing_Loan_Amount'),\n",
              " (0.040013477439515166, 'Outstanding_Debt'),\n",
              " (0.0374845538377577, 'Loan_Term'),\n",
              " (0.028769794903757882, 'Transaction_Frequency'),\n",
              " (0.023779893552245628, 'Interest_Rate'),\n",
              " (0.022058406187387882, 'Bank_Account_History'),\n",
              " (0.005323907123085196, 'Employment_Status_Employed'),\n",
              " (0.005320927410208075, 'Loan_Purpose_Home'),\n",
              " (0.005176721853068239, 'Education_High School'),\n",
              " (0.005166926198964772, 'City/Town_Urban'),\n",
              " (0.005149715459714876, 'Education_Graduate'),\n",
              " (0.005142562924643718, 'Loan_Type_Unsecured'),\n",
              " (0.005095531527572468, 'Loan_Type_Secured'),\n",
              " (0.005086466205486871, 'Existing_Loans_0'),\n",
              " (0.0050443772661945135, 'Co-Applicant_No'),\n",
              " (0.005040984128928386, 'Existing_Loans_2'),\n",
              " (0.0050348225377150795, 'Gender_Female'),\n",
              " (0.005002116165875719, 'Marital_Status_Married'),\n",
              " (0.004975999530583857, 'Dependents_0'),\n",
              " (0.004967096277607942, 'Co-Applicant_Yes'),\n",
              " (0.004964163904102026, 'Marital_Status_Single'),\n",
              " (0.004941544537579186, 'Gender_Male'),\n",
              " (0.004910357128685844, 'Existing_Loans_1'),\n",
              " (0.004897564695312236, 'City/Town_Suburban'),\n",
              " (0.004894093794040245, 'Dependents_1'),\n",
              " (0.004849138994586345, 'Occupation_Type_Freelancer'),\n",
              " (0.004839097668376665, 'Employment_Status_Self-Employed'),\n",
              " (0.0047242840238643485, 'Occupation_Type_Salaried'),\n",
              " (0.004683020047279761, 'Occupation_Type_Business'),\n",
              " (0.0046749993607180535, 'Residential_Status_Own'),\n",
              " (0.004668908542902808, 'Dependents_3'),\n",
              " (0.00462679592558074, 'Loan_Purpose_Education'),\n",
              " (0.004581973926365927, 'Dependents_2'),\n",
              " (0.004493465807324894, 'Loan_Purpose_Vehicle'),\n",
              " (0.0044774880072522, 'Residential_Status_Rent'),\n",
              " (0.004408671945071609, 'Occupation_Type_Professional'),\n",
              " (0.004318609265174749, 'Employment_Status_Unemployed'),\n",
              " (0.0042753799170726385, 'Education_Postgraduate'),\n",
              " (0.004258827230019978, 'Loan_Purpose_Personal'),\n",
              " (0.003919381399698227, 'Loan_History_0'),\n",
              " (0.0038853984792611334, 'Loan_History_1'),\n",
              " (0.0034013131588241175, 'Marital_Status_Divorced'),\n",
              " (0.0033670892962763222, 'City/Town_Rural'),\n",
              " (0.003252069471503137, 'Residential_Status_Other'),\n",
              " (0.0006455712672396562, 'Default_Risk')]"
            ]
          },
          "execution_count": 21,
          "metadata": {},
          "output_type": "execute_result"
        }
      ],
      "source": [
        "# Calculate feature importance\n",
        "importances = rf_model.feature_importances_\n",
        "# Sort the features by their importance\n",
        "sorted(zip(rf_model.feature_importances_, X.columns), reverse=True)"
      ]
    },
    {
      "cell_type": "code",
      "execution_count": 22,
      "metadata": {},
      "outputs": [
        {
          "data": {
            "image/png": "[encoded data removed]",
            "text/plain": [
              "<Figure size 640x480 with 1 Axes>"
            ]
          },
          "metadata": {},
          "output_type": "display_data"
        }
      ],
      "source": [
        "# Visualize the features by importance\n",
        "importances_df = pd.DataFrame(sorted(zip(rf_model.feature_importances_, X.columns), reverse=True))\n",
        "importances_df.set_index(importances_df[1], inplace=True)\n",
        "importances_df.drop(columns=1, inplace=True)\n",
        "importances_df.rename(columns={0: 'Feature Importances'}, inplace=True)\n",
        "importances_df.iloc[:15][\"Feature Importances\"].plot(kind='barh', color='lightgreen', title= 'Features Importances', legend=False)\n",
        "plt.gca().invert_yaxis()"
      ]
    },
    {
      "cell_type": "markdown",
      "metadata": {},
      "source": [
        "# Model 3: Deep Learning Neural Network"
      ]
    },
    {
      "cell_type": "code",
      "execution_count": 23,
      "metadata": {},
      "outputs": [
        {
          "name": "stdout",
          "output_type": "stream",
          "text": [
            "WARNING:tensorflow:From c:\\Users\\avery\\anaconda3\\envs\\dev_ave\\lib\\site-packages\\keras\\src\\backend.py:873: The name tf.get_default_graph is deprecated. Please use tf.compat.v1.get_default_graph instead.\n",
            "\n",
            "Model: \"sequential\"\n",
            "_________________________________________________________________\n",
            " Layer (type)                Output Shape              Param #   \n",
            "=================================================================\n",
            " dense (Dense)               (None, 128)               6528      \n",
            "                                                                 \n",
            " dense_1 (Dense)             (None, 64)                8256      \n",
            "                                                                 \n",
            " dense_2 (Dense)             (None, 32)                2080      \n",
            "                                                                 \n",
            " dense_3 (Dense)             (None, 1)                 33        \n",
            "                                                                 \n",
            "=================================================================\n",
            "Total params: 16897 (66.00 KB)\n",
            "Trainable params: 16897 (66.00 KB)\n",
            "Non-trainable params: 0 (0.00 Byte)\n",
            "_________________________________________________________________\n"
          ]
        }
      ],
      "source": [
        "# Create Neural Networks as third test\n",
        "\n",
        "nn = tf.keras.models.Sequential()\n",
        "\n",
        "# First hidden layer\n",
        "nn.add(tf.keras.layers.Dense(units=128, activation=\"relu\", input_dim=50))\n",
        "# Second hidden layer\n",
        "nn.add(tf.keras.layers.Dense(units=64, activation=\"relu\"))\n",
        "# Third Hidden Layer\n",
        "nn.add(tf.keras.layers.Dense(units=32, activation='tanh'))\n",
        "# Output layer\n",
        "nn.add(tf.keras.layers.Dense(units=1, activation=\"sigmoid\"))\n",
        "\n",
        "# Check the structure of the model\n",
        "nn.summary()"
      ]
    },
    {
      "cell_type": "code",
      "execution_count": 24,
      "metadata": {},
      "outputs": [
        {
          "name": "stdout",
          "output_type": "stream",
          "text": [
            "WARNING:tensorflow:From c:\\Users\\avery\\anaconda3\\envs\\dev_ave\\lib\\site-packages\\keras\\src\\optimizers\\__init__.py:309: The name tf.train.Optimizer is deprecated. Please use tf.compat.v1.train.Optimizer instead.\n",
            "\n"
          ]
        }
      ],
      "source": [
        "# Compile the Neural Network\n",
        "nn.compile(loss=\"binary_crossentropy\", optimizer=\"adam\", metrics=[\"accuracy\"])\n"
      ]
    },
    {
      "cell_type": "code",
      "execution_count": 25,
      "metadata": {},
      "outputs": [
        {
          "name": "stdout",
          "output_type": "stream",
          "text": [
            "Epoch 1/50\n",
            "WARNING:tensorflow:From c:\\Users\\avery\\anaconda3\\envs\\dev_ave\\lib\\site-packages\\keras\\src\\utils\\tf_utils.py:492: The name tf.ragged.RaggedTensorValue is deprecated. Please use tf.compat.v1.ragged.RaggedTensorValue instead.\n",
            "\n",
            "WARNING:tensorflow:From c:\\Users\\avery\\anaconda3\\envs\\dev_ave\\lib\\site-packages\\keras\\src\\engine\\base_layer_utils.py:384: The name tf.executing_eagerly_outside_functions is deprecated. Please use tf.compat.v1.executing_eagerly_outside_functions instead.\n",
            "\n",
            "1219/1219 [==============================] - 30s 20ms/step - loss: 0.4365 - accuracy: 0.8432\n",
            "Epoch 2/50\n",
            "1219/1219 [==============================] - 22s 18ms/step - loss: 0.4219 - accuracy: 0.8503\n",
            "Epoch 3/50\n",
            "1219/1219 [==============================] - 24s 19ms/step - loss: 0.4199 - accuracy: 0.8507\n",
            "Epoch 4/50\n",
            "1219/1219 [==============================] - 20s 16ms/step - loss: 0.4178 - accuracy: 0.8509\n",
            "Epoch 5/50\n",
            "1219/1219 [==============================] - 13s 11ms/step - loss: 0.4146 - accuracy: 0.8511\n",
            "Epoch 6/50\n",
            "1219/1219 [==============================] - 15s 12ms/step - loss: 0.4112 - accuracy: 0.8516\n",
            "Epoch 7/50\n",
            "1219/1219 [==============================] - 30s 25ms/step - loss: 0.4062 - accuracy: 0.8525\n",
            "Epoch 8/50\n",
            "1219/1219 [==============================] - 24s 20ms/step - loss: 0.4008 - accuracy: 0.8532\n",
            "Epoch 9/50\n",
            "1219/1219 [==============================] - 28s 23ms/step - loss: 0.3932 - accuracy: 0.8539\n",
            "Epoch 10/50\n",
            "1219/1219 [==============================] - 32s 26ms/step - loss: 0.3868 - accuracy: 0.8553\n",
            "Epoch 11/50\n",
            "1219/1219 [==============================] - 36s 30ms/step - loss: 0.3800 - accuracy: 0.8563\n",
            "Epoch 12/50\n",
            "1219/1219 [==============================] - 24s 20ms/step - loss: 0.3719 - accuracy: 0.8586\n",
            "Epoch 13/50\n",
            "1219/1219 [==============================] - 22s 18ms/step - loss: 0.3638 - accuracy: 0.8603\n",
            "Epoch 14/50\n",
            "1219/1219 [==============================] - 17s 14ms/step - loss: 0.3552 - accuracy: 0.8628\n",
            "Epoch 15/50\n",
            "1219/1219 [==============================] - 17s 14ms/step - loss: 0.3469 - accuracy: 0.8646\n",
            "Epoch 16/50\n",
            "1219/1219 [==============================] - 22s 18ms/step - loss: 0.3401 - accuracy: 0.8668\n",
            "Epoch 17/50\n",
            "1219/1219 [==============================] - 22s 18ms/step - loss: 0.3309 - accuracy: 0.8704\n",
            "Epoch 18/50\n",
            "1219/1219 [==============================] - 18s 15ms/step - loss: 0.3241 - accuracy: 0.8732\n",
            "Epoch 19/50\n",
            "1219/1219 [==============================] - 38s 31ms/step - loss: 0.3151 - accuracy: 0.8759\n",
            "Epoch 20/50\n",
            "1219/1219 [==============================] - 25s 20ms/step - loss: 0.3088 - accuracy: 0.8773\n",
            "Epoch 21/50\n",
            "1219/1219 [==============================] - 26s 21ms/step - loss: 0.3000 - accuracy: 0.8821\n",
            "Epoch 22/50\n",
            "1219/1219 [==============================] - 17s 14ms/step - loss: 0.2934 - accuracy: 0.8842\n",
            "Epoch 23/50\n",
            "1219/1219 [==============================] - 17s 14ms/step - loss: 0.2857 - accuracy: 0.8861\n",
            "Epoch 24/50\n",
            "1219/1219 [==============================] - 15s 12ms/step - loss: 0.2804 - accuracy: 0.8882\n",
            "Epoch 25/50\n",
            "1219/1219 [==============================] - 21s 17ms/step - loss: 0.2720 - accuracy: 0.8912\n",
            "Epoch 26/50\n",
            "1219/1219 [==============================] - 20s 16ms/step - loss: 0.2666 - accuracy: 0.8940\n",
            "Epoch 27/50\n",
            "1219/1219 [==============================] - 29s 24ms/step - loss: 0.2611 - accuracy: 0.8961\n",
            "Epoch 28/50\n",
            "1219/1219 [==============================] - 46s 38ms/step - loss: 0.2555 - accuracy: 0.8976\n",
            "Epoch 29/50\n",
            "1219/1219 [==============================] - 39s 32ms/step - loss: 0.2495 - accuracy: 0.8998\n",
            "Epoch 30/50\n",
            "1219/1219 [==============================] - 30s 25ms/step - loss: 0.2453 - accuracy: 0.9020\n",
            "Epoch 31/50\n",
            "1219/1219 [==============================] - 28s 23ms/step - loss: 0.2395 - accuracy: 0.9049\n",
            "Epoch 32/50\n",
            "1219/1219 [==============================] - 25s 20ms/step - loss: 0.2331 - accuracy: 0.9071\n",
            "Epoch 33/50\n",
            "1219/1219 [==============================] - 57s 47ms/step - loss: 0.2301 - accuracy: 0.9095\n",
            "Epoch 34/50\n",
            "1219/1219 [==============================] - 29s 24ms/step - loss: 0.2263 - accuracy: 0.9107\n",
            "Epoch 35/50\n",
            "1219/1219 [==============================] - 23s 18ms/step - loss: 0.2225 - accuracy: 0.9109\n",
            "Epoch 36/50\n",
            "1219/1219 [==============================] - 18s 15ms/step - loss: 0.2171 - accuracy: 0.9136\n",
            "Epoch 37/50\n",
            "1219/1219 [==============================] - 21s 17ms/step - loss: 0.2152 - accuracy: 0.9145\n",
            "Epoch 38/50\n",
            "1219/1219 [==============================] - 17s 14ms/step - loss: 0.2091 - accuracy: 0.9159\n",
            "Epoch 39/50\n",
            "1219/1219 [==============================] - 15s 13ms/step - loss: 0.2072 - accuracy: 0.9175\n",
            "Epoch 40/50\n",
            "1219/1219 [==============================] - 17s 14ms/step - loss: 0.2052 - accuracy: 0.9193\n",
            "Epoch 41/50\n",
            "1219/1219 [==============================] - 15s 12ms/step - loss: 0.2004 - accuracy: 0.9192\n",
            "Epoch 42/50\n",
            "1219/1219 [==============================] - 15s 12ms/step - loss: 0.1977 - accuracy: 0.9225\n",
            "Epoch 43/50\n",
            "1219/1219 [==============================] - 18s 14ms/step - loss: 0.1925 - accuracy: 0.9253\n",
            "Epoch 44/50\n",
            "1219/1219 [==============================] - 16s 13ms/step - loss: 0.1899 - accuracy: 0.9252\n",
            "Epoch 45/50\n",
            "1219/1219 [==============================] - 16s 13ms/step - loss: 0.1863 - accuracy: 0.9258\n",
            "Epoch 46/50\n",
            "1219/1219 [==============================] - 25s 20ms/step - loss: 0.1856 - accuracy: 0.9270\n",
            "Epoch 47/50\n",
            "1219/1219 [==============================] - 17s 14ms/step - loss: 0.1832 - accuracy: 0.9275\n",
            "Epoch 48/50\n",
            "1219/1219 [==============================] - 17s 14ms/step - loss: 0.1790 - accuracy: 0.9301\n",
            "Epoch 49/50\n",
            "1219/1219 [==============================] - 22s 18ms/step - loss: 0.1787 - accuracy: 0.9295\n",
            "Epoch 50/50\n",
            "1219/1219 [==============================] - 19s 16ms/step - loss: 0.1778 - accuracy: 0.9295\n"
          ]
        }
      ],
      "source": [
        "# Train the Neural Network Model\n",
        "fit_model = nn.fit(X_train_scaled, y_train, epochs=50)"
      ]
    },
    {
      "cell_type": "code",
      "execution_count": 26,
      "metadata": {},
      "outputs": [
        {
          "name": "stdout",
          "output_type": "stream",
          "text": [
            "407/407 - 3s - loss: 0.9249 - accuracy: 0.7682 - 3s/epoch - 8ms/step\n",
            "Loss: 0.9248830676078796, Accuracy: 0.7681538462638855\n"
          ]
        }
      ],
      "source": [
        "# Evaluate the model using the test data\n",
        "model_loss, model_accuracy = nn.evaluate(X_test_scaled,y_test,verbose=2)\n",
        "print(f\"Loss: {model_loss}, Accuracy: {model_accuracy}\")"
      ]
    },
    {
      "cell_type": "markdown",
      "metadata": {},
      "source": [
        "# Model Performance Visualization (Neural Network)"
      ]
    },
    {
      "cell_type": "code",
      "execution_count": 27,
      "metadata": {},
      "outputs": [
        {
          "data": {
            "image/png": "[encoded data removed]",
            "text/plain": [
              "<Figure size 640x480 with 1 Axes>"
            ]
          },
          "metadata": {},
          "output_type": "display_data"
        },
        {
          "data": {
            "image/png": "[encoded data removed]",
            "text/plain": [
              "<Figure size 640x480 with 1 Axes>"
            ]
          },
          "metadata": {},
          "output_type": "display_data"
        }
      ],
      "source": [
        "# Create a DataFrame containing training history\n",
        "history_df = pd.DataFrame(fit_model.history)\n",
        "\n",
        "# Adjust index to match epoch count\n",
        "history_df.index += 1\n",
        "\n",
        "# Plot training loss over epochs\n",
        "history_df.plot(y=\"loss\", title=\"Neural Network Training Loss\")\n",
        "plt.show()\n",
        "\n",
        "# Plot training accuracy over epochs\n",
        "history_df.plot(y=\"accuracy\", title=\"Neural Network Training Accuracy\")\n",
        "plt.show()"
      ]
    },
    {
      "cell_type": "markdown",
      "metadata": {},
      "source": [
        "# Feature Importance Visualization (Random Forest)"
      ]
    },
    {
      "cell_type": "code",
      "execution_count": 28,
      "metadata": {},
      "outputs": [
        {
          "data": {
            "image/png": "[encoded data removed]",
            "text/plain": [
              "<Figure size 1000x600 with 1 Axes>"
            ]
          },
          "metadata": {},
          "output_type": "display_data"
        }
      ],
      "source": [
        "# Create a DataFrame of feature importances\n",
        "importances_df = pd.DataFrame(sorted(zip(rf_model.feature_importances_, X.columns), reverse=True))\n",
        "\n",
        "# Set column names for clarity\n",
        "importances_df.columns = [\"Feature Importance\", \"Feature\"]\n",
        "\n",
        "# Sort by importance and set index for visualization\n",
        "importances_df.set_index(\"Feature\", inplace=True)\n",
        "\n",
        "# Plot the top 15 most important features\n",
        "plt.figure(figsize=(10, 6))\n",
        "importances_df.iloc[:15][\"Feature Importance\"].plot(kind=\"barh\", color=\"lightgreen\", title=\"Features Importances\")\n",
        "\n",
        "# Invert y-axis for better readability (most important features at the top)\n",
        "plt.gca().invert_yaxis()\n",
        "\n",
        "# Display the chart\n",
        "plt.show()"
      ]
    },
    {
      "cell_type": "markdown",
      "metadata": {},
      "source": [
        "# Save the Deep Learning Model"
      ]
    },
    {
      "cell_type": "code",
      "execution_count": 29,
      "metadata": {},
      "outputs": [
        {
          "name": "stderr",
          "output_type": "stream",
          "text": [
            "c:\\Users\\avery\\anaconda3\\envs\\dev_ave\\lib\\site-packages\\keras\\src\\engine\\training.py:3103: UserWarning: You are saving your model as an HDF5 file via `model.save()`. This file format is considered legacy. We recommend using instead the native Keras format, e.g. `model.save('my_model.keras')`.\n",
            "  saving_api.save_model(\n"
          ]
        }
      ],
      "source": [
        "nn.save(\"LoanApproval_ML.h5\")\n"
      ]
    },
    {
      "cell_type": "markdown",
      "metadata": {},
      "source": [
        "\n",
        "# Close SQL Connection"
      ]
    },
    {
      "cell_type": "code",
      "execution_count": 30,
      "metadata": {},
      "outputs": [],
      "source": [
        "conn.close()"
      ]
    }
  ],
  "metadata": {
    "colab": {
      "provenance": []
    },
    "kernelspec": {
      "display_name": "dev_ave",
      "language": "python",
      "name": "python3"
    },
    "language_info": {
      "codemirror_mode": {
        "name": "ipython",
        "version": 3
      },
      "file_extension": ".py",
      "mimetype": "text/x-python",
      "name": "python",
      "nbconvert_exporter": "python",
      "pygments_lexer": "ipython3",
      "version": "3.10.15"
    }
  },
  "nbformat": 4,
  "nbformat_minor": 0
}
